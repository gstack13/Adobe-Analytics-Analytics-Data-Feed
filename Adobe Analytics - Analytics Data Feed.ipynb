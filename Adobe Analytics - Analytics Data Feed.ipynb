{
 "cells": [
  {
   "cell_type": "markdown",
   "metadata": {},
   "source": [
    "# Adobe Analytics - Analytics Data Feed"
   ]
  },
  {
   "cell_type": "markdown",
   "metadata": {},
   "source": [
    "This script processes Adobe Analytics Analytics Data Feed lookup tables into a single clickstream data file.\n",
    "\n",
    "This script assumes that each lookup file has two fields, a key and a value and replaces the original column values on hit_data with the value from the lookup table.\n",
    "\n",
    "You can add more lookuk variables/tables by editing the lookup_variables dictionary. You may need to adjust paths for the data files.\n",
    "\n",
    "<h2>Documentation</h2>\n",
    "\n",
    "Unzip the Adobe Analytics clickstream data feed in a folder, copy this script to the folder and move all the tsv files into a <strong>data/</strong> folder.\n",
    "\n",
    "Execute this script with python 2.7\n",
    "\n",
    "<ul><li><a href=\"https://marketing.adobe.com/resources/help/en_US/reference/analytics-data-feed.html\">Analytics Data  Feed</a></li>\n",
    "    <li><a href=\"https://marketing.adobe.com/resources/help/en_US/reference/datafeeds-reference.html\">Data Column Reference</a></li>\n",
    "    <li><a href=\"https://github.com/joaolcorreia/Adobe-Analytics-Clickstream-Data-Feed\">This script on GitHub</a>\n",
    "</ul>\n",
    "\n",
    "\n",
    "Author: <a href=\"https://joaocorreia.io\">João Correia</a>\n"
   ]
  },
  {
   "cell_type": "markdown",
   "metadata": {},
   "source": [
    "---"
   ]
  },
  {
   "cell_type": "code",
   "execution_count": null,
   "metadata": {},
   "outputs": [],
   "source": [
    "import pandas as pd"
   ]
  },
  {
   "cell_type": "markdown",
   "metadata": {},
   "source": [
    "### Open the column headers"
   ]
  },
  {
   "cell_type": "code",
   "execution_count": null,
   "metadata": {},
   "outputs": [],
   "source": [
    "column_headers = pd.read_csv(\"data/column_headers.tsv\", sep=\"\\t\")"
   ]
  },
  {
   "cell_type": "markdown",
   "metadata": {},
   "source": [
    "### Open the events table with columns headers"
   ]
  },
  {
   "cell_type": "code",
   "execution_count": null,
   "metadata": {},
   "outputs": [],
   "source": [
    "hit_data = pd.read_csv(\"data/hit_data.tsv\", sep=\"\\t\", names=column_headers, low_memory=False)"
   ]
  },
  {
   "cell_type": "markdown",
   "metadata": {},
   "source": [
    "## List of lookup files"
   ]
  },
  {
   "cell_type": "markdown",
   "metadata": {},
   "source": [
    "### Define all the lookup columns and their lookup files"
   ]
  },
  {
   "cell_type": "code",
   "execution_count": null,
   "metadata": {},
   "outputs": [],
   "source": [
    "lookup_variables = {\n",
    "    'connection_type':{ 'file':'connection_type.tsv'}    \n",
    "    ,'browser':{'file':'browser.tsv'}  \n",
    "    ,'color': { 'file': 'color_depth.tsv'}\n",
    "    ,'country': { 'file': 'country.tsv'}  \n",
    "    ,'javascript': { 'file': 'javascript_version.tsv'}  \n",
    "    ,'language': { 'file': 'languages.tsv'} \n",
    "    ,'os': {'file': 'operating_systems.tsv'}\n",
    "    ,'plugins': {'file': 'plugins.tsv'}\n",
    "    ,'ref_type': {'file': 'referrer_type.csv'}\n",
    "    ,'resolution': {'file': 'resolution.tsv'}\n",
    "    ,'search_engine': {'file': 'search_engines.tsv'}\n",
    "    }\n",
    "\n"
   ]
  },
  {
   "cell_type": "markdown",
   "metadata": {},
   "source": [
    "### Quick Fixes"
   ]
  },
  {
   "cell_type": "markdown",
   "metadata": {},
   "source": [
    "#### referrer_types.tsv three columns\n",
    "This file has three columns with a lowercased classification. We discard the last one, which is the one with less information."
   ]
  },
  {
   "cell_type": "code",
   "execution_count": null,
   "metadata": {},
   "outputs": [],
   "source": [
    "referrer_type = pd.read_csv(\"data/referrer_type.tsv\", sep=\"\\t\", usecols=[0,1],names=['key','value'])\n",
    "referrer_type.to_csv(\"data/referrer_type.csv\",sep=\"\\t\",index=False, header=False)"
   ]
  },
  {
   "cell_type": "markdown",
   "metadata": {},
   "source": [
    "### Lookup Function"
   ]
  },
  {
   "cell_type": "code",
   "execution_count": null,
   "metadata": {},
   "outputs": [],
   "source": [
    "# Lookup and replace each lookup column value\n",
    "# We assume lookup tables with two columns, key and value\n",
    "\n",
    "def process_column (column_name, datafile):\n",
    "    c = pd.read_csv(\"data/\" + datafile, sep=\"\\t\", names=[\"key\",\"value\"],index_col='key')\n",
    "    c = c.to_dict(orient='series')['value']\n",
    "    mask = hit_data[column_name].isin(c.keys())\n",
    "    hit_data.loc[mask, column_name] = hit_data.loc[mask, column_name].map(c)\n",
    "    return \"processed: \" + datafile"
   ]
  },
  {
   "cell_type": "markdown",
   "metadata": {},
   "source": [
    "### Process each lookup columns"
   ]
  },
  {
   "cell_type": "code",
   "execution_count": null,
   "metadata": {},
   "outputs": [],
   "source": [
    "for key, value in lookup_variables.iteritems():\n",
    "    print process_column(key,value['file'])"
   ]
  },
  {
   "cell_type": "markdown",
   "metadata": {},
   "source": [
    "### Save to a tab separated file"
   ]
  },
  {
   "cell_type": "code",
   "execution_count": null,
   "metadata": {},
   "outputs": [],
   "source": [
    "hit_data.to_csv(\"clickstream.tsv\",sep=\"\\t\",index=False)"
   ]
  }
 ],
 "metadata": {
  "kernelspec": {
   "display_name": "Python 2",
   "language": "python",
   "name": "python2"
  },
  "language_info": {
   "codemirror_mode": {
    "name": "ipython",
    "version": 2
   },
   "file_extension": ".py",
   "mimetype": "text/x-python",
   "name": "python",
   "nbconvert_exporter": "python",
   "pygments_lexer": "ipython2",
   "version": "2.7.15"
  }
 },
 "nbformat": 4,
 "nbformat_minor": 2
}
